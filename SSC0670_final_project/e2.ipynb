{
 "cells": [
  {
   "cell_type": "code",
   "execution_count": 1,
   "metadata": {},
   "outputs": [
    {
     "name": "stdout",
     "output_type": "stream",
     "text": [
      "start\n"
     ]
    }
   ],
   "source": [
    "import ktrain\n",
    "from sklearn import metrics\n",
    "import matplotlib.pyplot as plt\n",
    "import pandas as pd\n",
    "from sklearn.metrics import classification_report\n",
    "\n",
    "CATEGORIES_LIST = ['Música e Áudio', 'Comunicação', 'Finanças', 'Entretenimento', 'Medicina', 'Comer e Beber', 'Corporativo', 'Estilo de Vida', 'Reproduzir e Editar Videos', 'Mapas e Navegação', 'Social', 'Fotografia', 'Compras', 'Produtividade', 'Educação', 'Livros e Referência', 'Encontro', 'Clima', 'Turismo e Local', 'Notícias e Revistas', 'Saúde', 'Personalização', 'Ferramentas', 'Casa', 'Veículo', 'Esportes', 'Arte e Design', 'Biblioteca', 'Criar os Filhos', 'Eventos', 'Humor', 'Mostradores de Relógio', 'Beleza']\n",
    "NAME_TERMINAL = \"ep2_non_context\"\n",
    "print(\"start\")"
   ]
  },
  {
   "cell_type": "code",
   "execution_count": 2,
   "metadata": {},
   "outputs": [
    {
     "name": "stdout",
     "output_type": "stream",
     "text": [
      "(1104646, 6)\n",
      "(1103844, 6)\n",
      "importou as bibliotecas\n"
     ]
    }
   ],
   "source": [
    "#Importando a biblioteca pandas e carregando as amostras\n",
    "df_test = pd.read_pickle('./Amostras_Teste.pkl')\n",
    "print(df_test.shape)\n",
    "df_test = df_test.dropna()\n",
    "print(df_test.shape)\n",
    "print(\"importou as bibliotecas\")"
   ]
  },
  {
   "cell_type": "code",
   "execution_count": 4,
   "metadata": {},
   "outputs": [
    {
     "name": "stdout",
     "output_type": "stream",
     "text": [
      "carregou o modelo\n"
     ]
    }
   ],
   "source": [
    "#Load predictor\n",
    "p = ktrain.load_predictor('./bert-base-multilingual-cased_e2_apps.model')\n",
    "print(\"carregou o modelo\")"
   ]
  },
  {
   "cell_type": "code",
   "execution_count": 7,
   "metadata": {},
   "outputs": [
    {
     "name": "stdout",
     "output_type": "stream",
     "text": [
      "ep2_context\n",
      "17248/17248 [==============================] - 130541s 8s/step\n",
      "terminado as predições\n",
      "17248/17248 [==============================] - 131028s 8s/step\n",
      "terminado as probabilidades de predições\n",
      "              precision    recall  f1-score   support\n",
      "\n",
      "    Negative       0.92      0.92      0.92    275984\n",
      "    Positive       0.92      0.92      0.92    275938\n",
      "\n",
      "    accuracy                           0.92    551922\n",
      "   macro avg       0.92      0.92      0.92    551922\n",
      "weighted avg       0.92      0.92      0.92    551922\n",
      "\n",
      "Fim da execução de ep2_context\n"
     ]
    },
    {
     "data": {
      "image/png": "[encoded data removed]",
      "text/plain": [
       "<Figure size 432x288 with 1 Axes>"
      ]
     },
     "metadata": {
      "needs_background": "light"
     },
     "output_type": "display_data"
    }
   ],
   "source": [
    "# teste com contexto\n",
    "df_test = df_test.head(round(len(df_test)/2))\n",
    "#x_test = df_test[['review', 'category']].values\n",
    "#x_test = list(map(tuple, x_test))\n",
    "x_test = df_test.review.values\n",
    "y_true = [df_test.label_feelings.values, df_test.negative_index.values]\n",
    "\n",
    "#Amostras gerais\n",
    "print(NAME_TERMINAL)\n",
    "#y_pred = p.predict(x_test)\n",
    "#print(\"terminado as predições\")\n",
    "y_pred_proba = p.predict_proba(x_test)\n",
    "print(\"terminado as probabilidades de predições\")\n",
    "#Exibindo as métricas obtidas\n",
    "#print(classification_report(y_true[0][0:len(y_pred)], y_pred))\n",
    "#Calculando a curva ROC e AUC\n",
    "fpr, tpr, _ = metrics.roc_curve(y_true[1],  y_pred_proba[:, 0])\n",
    "auc = metrics.roc_auc_score(y_true[1],  y_pred_proba[:, 0])\n",
    "#create ROC curve\n",
    "plt.figure()\n",
    "lw = 2\n",
    "plt.plot(\n",
    "    fpr,\n",
    "    tpr,\n",
    "    color=\"darkorange\",\n",
    "    lw=lw,\n",
    "    label=\"ROC curve (area = %0.4f)\" % auc,\n",
    ")\n",
    "plt.xlabel(\"False Positive Rate\")\n",
    "plt.ylabel(\"True Positive Rate\")\n",
    "plt.legend(loc=\"lower right\")\n",
    "plt.savefig(\"./00 - imagens/\"+NAME_TERMINAL+\".png\", \n",
    "            dpi=300,\n",
    "            transparent=True)\n",
    "\n",
    "print(\"Fim da execução de \"+NAME_TERMINAL)"
   ]
  },
  {
   "cell_type": "code",
   "execution_count": null,
   "metadata": {},
   "outputs": [],
   "source": []
  },
  {
   "cell_type": "code",
   "execution_count": null,
   "metadata": {},
   "outputs": [],
   "source": [
    "#Predições\n",
    "y_pred = p.predict(x_test)\n",
    "print(\"terminado as predições\")"
   ]
  },
  {
   "cell_type": "code",
   "execution_count": null,
   "metadata": {},
   "outputs": [],
   "source": [
    "y_pred_proba = p.predict_proba(x_test)\n",
    "print(\"terminado as probabilidades de predições\")"
   ]
  },
  {
   "cell_type": "code",
   "execution_count": null,
   "metadata": {},
   "outputs": [],
   "source": [
    "#Exibindo as métricas obtidas\n",
    "print(classification_report(y_true[0][0:len(y_pred)], y_pred))"
   ]
  },
  {
   "cell_type": "code",
   "execution_count": null,
   "metadata": {},
   "outputs": [],
   "source": [
    "#Calculando a curva ROC e AUC\n",
    "fpr, tpr, _ = metrics.roc_curve(y_true[1],  y_pred_proba[:, 0])\n",
    "auc = metrics.roc_auc_score(y_true[1],  y_pred_proba[:, 0])"
   ]
  },
  {
   "cell_type": "code",
   "execution_count": null,
   "metadata": {},
   "outputs": [],
   "source": [
    "#create ROC curve\n",
    "plt.figure()\n",
    "lw = 2\n",
    "plt.plot(\n",
    "    fpr,\n",
    "    tpr,\n",
    "    color=\"darkorange\",\n",
    "    lw=lw,\n",
    "    label=\"ROC curve (area = %0.4f)\" % auc,\n",
    ")\n",
    "plt.xlabel(\"False Positive Rate\")\n",
    "plt.ylabel(\"True Positive Rate\")\n",
    "plt.legend(loc=\"lower right\")\n",
    "plt.savefig(\"./00 - imagens/\"+NAME_TERMINAL+\".png\", \n",
    "            dpi=300,\n",
    "            transparent=True)\n",
    "\n",
    "print(\"Fim da execução de \"+NAME_TERMINAL)"
   ]
  },
  {
   "cell_type": "code",
   "execution_count": null,
   "metadata": {},
   "outputs": [],
   "source": []
  }
 ],
 "metadata": {
  "colab": {
   "authorship_tag": "ABX9TyP0RwJyzQlZrgR2rBiFO/cY",
   "collapsed_sections": [],
   "name": "e2.ipynb",
   "provenance": []
  },
  "kernelspec": {
   "display_name": "Python 3 (ipykernel)",
   "language": "python",
   "name": "python3"
  },
  "language_info": {
   "codemirror_mode": {
    "name": "ipython",
    "version": 3
   },
   "file_extension": ".py",
   "mimetype": "text/x-python",
   "name": "python",
   "nbconvert_exporter": "python",
   "pygments_lexer": "ipython3",
   "version": "3.9.12"
  }
 },
 "nbformat": 4,
 "nbformat_minor": 1
}
